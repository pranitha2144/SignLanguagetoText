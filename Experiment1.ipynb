{
  "nbformat": 4,
  "nbformat_minor": 0,
  "metadata": {
    "colab": {
      "name": "Experiment1.ipynb",
      "provenance": [],
      "mount_file_id": "1-seP6vvgRYfoI4TDm27IL_CkeC04u3kF",
      "authorship_tag": "ABX9TyOKvgMS9OnfnvKZ7m6Brljy",
      "include_colab_link": true
    },
    "kernelspec": {
      "name": "python3",
      "display_name": "Python 3"
    },
    "language_info": {
      "name": "python"
    }
  },
  "cells": [
    {
      "cell_type": "markdown",
      "metadata": {
        "id": "view-in-github",
        "colab_type": "text"
      },
      "source": [
        "<a href=\"https://colab.research.google.com/github/pranitha2144/SignLanguagetoText/blob/main/Experiment1.ipynb\" target=\"_parent\"><img src=\"https://colab.research.google.com/assets/colab-badge.svg\" alt=\"Open In Colab\"/></a>"
      ]
    },
    {
      "cell_type": "code",
      "metadata": {
        "id": "N-fcs8dzWw-j"
      },
      "source": [
        "from keras.models import Sequential\n",
        "from keras.layers import Convolution2D\n",
        "from keras.layers import MaxPooling2D\n",
        "from keras.layers import Flatten\n",
        "from keras.layers import Dense , Dropout\n",
        "from tensorflow.keras import models\n",
        "import numpy as np\n",
        "\n",
        "sz=224"
      ],
      "execution_count": 1,
      "outputs": []
    },
    {
      "cell_type": "code",
      "metadata": {
        "id": "H0ciAGETrBS1"
      },
      "source": [
        "import tensorflow as tf\n",
        "from tensorflow.keras.applications.resnet50 import preprocess_input, decode_predictions\n",
        "from tensorflow.keras.preprocessing import image\n",
        "# Helper libraries\n",
        "import numpy as np\n",
        "import matplotlib.pyplot as plt\n"
      ],
      "execution_count": 6,
      "outputs": []
    },
    {
      "cell_type": "code",
      "metadata": {
        "colab": {
          "base_uri": "https://localhost:8080/"
        },
        "id": "C_3_QLm0vPz4",
        "outputId": "45c5ee60-7425-497e-b738-660519acd223"
      },
      "source": [
        "import os\n",
        "import numpy as np\n",
        "labels=['0','A', 'B', 'C', 'D', 'E', 'F', 'G', 'H', 'I', 'J', 'K', 'L', 'M', 'N', 'O', 'P', 'Q', 'R', 'S', 'T', 'U', 'V', 'W', 'X', 'Y', 'Z']\n",
        "data_path='/content/drive/MyDrive/Major project- IV-II/Datasetcollecte/val'\n",
        "data_dir_list=os.listdir(data_path)\n",
        "actual=[]\n",
        "predicted=[]\n",
        "for dataset in data_dir_list:\n",
        "  print(dataset)\n",
        "  img_list=os.listdir(data_path+'/'+dataset)\n",
        "  correctCount=0\n",
        "  wrongCount=0\n",
        "  for img in img_list:\n",
        "    img_path=data_path+'/'+dataset+'/'+img\n",
        "    img = image.load_img(img_path, target_size=(224, 224,3),color_mode='rgb')\n",
        "    img_array = image.img_to_array(img)\n",
        "    img_batch = np.expand_dims(img_array, axis=0)\n",
        "    output = test_model.predict(img_batch)\n",
        "    ans=np.argmax(output)\n",
        "    actual.append(dataset)\n",
        "    predicted.append(labels[ans])\n",
        "    if( labels[ans] == dataset):\n",
        "      correctCount+=1\n",
        "    else:\n",
        "      wrongCount+=1\n",
        "  print(dataset,\"correct Count {} WrongCount {}\".format(correctCount,wrongCount))"
      ],
      "execution_count": 7,
      "outputs": [
        {
          "output_type": "stream",
          "text": [
            "N\n",
            "N correct Count 0 WrongCount 162\n",
            "C\n",
            "C correct Count 0 WrongCount 161\n",
            "U\n",
            "U correct Count 0 WrongCount 162\n",
            "A\n",
            "A correct Count 0 WrongCount 164\n",
            "Q\n",
            "Q correct Count 0 WrongCount 163\n",
            "B\n",
            "B correct Count 161 WrongCount 0\n",
            "R\n",
            "R correct Count 0 WrongCount 163\n",
            "P\n",
            "P correct Count 0 WrongCount 162\n",
            "E\n",
            "E correct Count 0 WrongCount 162\n",
            "X\n",
            "X correct Count 0 WrongCount 161\n",
            "W\n",
            "W correct Count 0 WrongCount 163\n",
            "T\n",
            "T correct Count 0 WrongCount 162\n",
            "Y\n",
            "Y correct Count 0 WrongCount 163\n",
            "Z\n",
            "Z correct Count 0 WrongCount 161\n",
            "O\n",
            "O correct Count 0 WrongCount 162\n",
            "D\n",
            "D correct Count 0 WrongCount 162\n",
            "V\n",
            "V correct Count 0 WrongCount 161\n",
            "S\n",
            "S correct Count 0 WrongCount 163\n",
            "F\n",
            "F correct Count 0 WrongCount 161\n",
            "0\n",
            "0 correct Count 0 WrongCount 162\n",
            "G\n",
            "G correct Count 0 WrongCount 161\n",
            "H\n",
            "H correct Count 0 WrongCount 162\n",
            "I\n",
            "I correct Count 0 WrongCount 161\n",
            "J\n",
            "J correct Count 0 WrongCount 162\n",
            "K\n",
            "K correct Count 0 WrongCount 163\n",
            "L\n",
            "L correct Count 0 WrongCount 161\n",
            "M\n",
            "M correct Count 0 WrongCount 163\n"
          ],
          "name": "stdout"
        }
      ]
    },
    {
      "cell_type": "code",
      "metadata": {
        "colab": {
          "base_uri": "https://localhost:8080/"
        },
        "id": "4Vxd3AfrznpI",
        "outputId": "16aa4469-dc96-4b7b-b417-9eb6c5c8525b"
      },
      "source": [
        "# Python script for confusion matrix creation. \n",
        "from sklearn.metrics import confusion_matrix \n",
        "from sklearn.metrics import accuracy_score \n",
        "from sklearn.metrics import classification_report \n",
        "results = confusion_matrix(actual, predicted) \n",
        "\n",
        "print ('Confusion Matrix :')\n",
        "print(results) \n",
        "print ('Accuracy Score :',accuracy_score(actual, predicted)) \n",
        "print ('Report : ')\n",
        "print (classification_report(actual, predicted)) "
      ],
      "execution_count": 8,
      "outputs": [
        {
          "output_type": "stream",
          "text": [
            "Confusion Matrix :\n",
            "[[  0   0 162   0   0   0   0   0   0   0   0   0   0   0   0   0   0   0\n",
            "    0   0   0   0   0   0   0   0   0]\n",
            " [  0   0 164   0   0   0   0   0   0   0   0   0   0   0   0   0   0   0\n",
            "    0   0   0   0   0   0   0   0   0]\n",
            " [  0   0 161   0   0   0   0   0   0   0   0   0   0   0   0   0   0   0\n",
            "    0   0   0   0   0   0   0   0   0]\n",
            " [  0   0 161   0   0   0   0   0   0   0   0   0   0   0   0   0   0   0\n",
            "    0   0   0   0   0   0   0   0   0]\n",
            " [  0   0 162   0   0   0   0   0   0   0   0   0   0   0   0   0   0   0\n",
            "    0   0   0   0   0   0   0   0   0]\n",
            " [  0   0 162   0   0   0   0   0   0   0   0   0   0   0   0   0   0   0\n",
            "    0   0   0   0   0   0   0   0   0]\n",
            " [  0   0 161   0   0   0   0   0   0   0   0   0   0   0   0   0   0   0\n",
            "    0   0   0   0   0   0   0   0   0]\n",
            " [  0   0 161   0   0   0   0   0   0   0   0   0   0   0   0   0   0   0\n",
            "    0   0   0   0   0   0   0   0   0]\n",
            " [  0   0 162   0   0   0   0   0   0   0   0   0   0   0   0   0   0   0\n",
            "    0   0   0   0   0   0   0   0   0]\n",
            " [  0   0 161   0   0   0   0   0   0   0   0   0   0   0   0   0   0   0\n",
            "    0   0   0   0   0   0   0   0   0]\n",
            " [  0   0 162   0   0   0   0   0   0   0   0   0   0   0   0   0   0   0\n",
            "    0   0   0   0   0   0   0   0   0]\n",
            " [  0   0 163   0   0   0   0   0   0   0   0   0   0   0   0   0   0   0\n",
            "    0   0   0   0   0   0   0   0   0]\n",
            " [  0   0 159   0   0   0   0   0   0   2   0   0   0   0   0   0   0   0\n",
            "    0   0   0   0   0   0   0   0   0]\n",
            " [  0   0 163   0   0   0   0   0   0   0   0   0   0   0   0   0   0   0\n",
            "    0   0   0   0   0   0   0   0   0]\n",
            " [  0   0 162   0   0   0   0   0   0   0   0   0   0   0   0   0   0   0\n",
            "    0   0   0   0   0   0   0   0   0]\n",
            " [  0   0 162   0   0   0   0   0   0   0   0   0   0   0   0   0   0   0\n",
            "    0   0   0   0   0   0   0   0   0]\n",
            " [  0   0 162   0   0   0   0   0   0   0   0   0   0   0   0   0   0   0\n",
            "    0   0   0   0   0   0   0   0   0]\n",
            " [  0   0 163   0   0   0   0   0   0   0   0   0   0   0   0   0   0   0\n",
            "    0   0   0   0   0   0   0   0   0]\n",
            " [  0   0 163   0   0   0   0   0   0   0   0   0   0   0   0   0   0   0\n",
            "    0   0   0   0   0   0   0   0   0]\n",
            " [  0   0 163   0   0   0   0   0   0   0   0   0   0   0   0   0   0   0\n",
            "    0   0   0   0   0   0   0   0   0]\n",
            " [  0   0 162   0   0   0   0   0   0   0   0   0   0   0   0   0   0   0\n",
            "    0   0   0   0   0   0   0   0   0]\n",
            " [  0   0 162   0   0   0   0   0   0   0   0   0   0   0   0   0   0   0\n",
            "    0   0   0   0   0   0   0   0   0]\n",
            " [  0   0 161   0   0   0   0   0   0   0   0   0   0   0   0   0   0   0\n",
            "    0   0   0   0   0   0   0   0   0]\n",
            " [  0   0 163   0   0   0   0   0   0   0   0   0   0   0   0   0   0   0\n",
            "    0   0   0   0   0   0   0   0   0]\n",
            " [  0   0 161   0   0   0   0   0   0   0   0   0   0   0   0   0   0   0\n",
            "    0   0   0   0   0   0   0   0   0]\n",
            " [  0   0 163   0   0   0   0   0   0   0   0   0   0   0   0   0   0   0\n",
            "    0   0   0   0   0   0   0   0   0]\n",
            " [  0   0 161   0   0   0   0   0   0   0   0   0   0   0   0   0   0   0\n",
            "    0   0   0   0   0   0   0   0   0]]\n",
            "Accuracy Score : 0.03680841335162323\n",
            "Report : \n",
            "              precision    recall  f1-score   support\n",
            "\n",
            "           0       0.00      0.00      0.00       162\n",
            "           A       0.00      0.00      0.00       164\n",
            "           B       0.04      1.00      0.07       161\n",
            "           C       0.00      0.00      0.00       161\n",
            "           D       0.00      0.00      0.00       162\n",
            "           E       0.00      0.00      0.00       162\n",
            "           F       0.00      0.00      0.00       161\n",
            "           G       0.00      0.00      0.00       161\n",
            "           H       0.00      0.00      0.00       162\n",
            "           I       0.00      0.00      0.00       161\n",
            "           J       0.00      0.00      0.00       162\n",
            "           K       0.00      0.00      0.00       163\n",
            "           L       0.00      0.00      0.00       161\n",
            "           M       0.00      0.00      0.00       163\n",
            "           N       0.00      0.00      0.00       162\n",
            "           O       0.00      0.00      0.00       162\n",
            "           P       0.00      0.00      0.00       162\n",
            "           Q       0.00      0.00      0.00       163\n",
            "           R       0.00      0.00      0.00       163\n",
            "           S       0.00      0.00      0.00       163\n",
            "           T       0.00      0.00      0.00       162\n",
            "           U       0.00      0.00      0.00       162\n",
            "           V       0.00      0.00      0.00       161\n",
            "           W       0.00      0.00      0.00       163\n",
            "           X       0.00      0.00      0.00       161\n",
            "           Y       0.00      0.00      0.00       163\n",
            "           Z       0.00      0.00      0.00       161\n",
            "\n",
            "    accuracy                           0.04      4374\n",
            "   macro avg       0.00      0.04      0.00      4374\n",
            "weighted avg       0.00      0.04      0.00      4374\n",
            "\n"
          ],
          "name": "stdout"
        },
        {
          "output_type": "stream",
          "text": [
            "/usr/local/lib/python3.7/dist-packages/sklearn/metrics/_classification.py:1272: UndefinedMetricWarning: Precision and F-score are ill-defined and being set to 0.0 in labels with no predicted samples. Use `zero_division` parameter to control this behavior.\n",
            "  _warn_prf(average, modifier, msg_start, len(result))\n"
          ],
          "name": "stderr"
        }
      ]
    }
  ]
}
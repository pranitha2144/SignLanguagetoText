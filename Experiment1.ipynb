{
  "nbformat": 4,
  "nbformat_minor": 0,
  "metadata": {
    "colab": {
      "name": "Experiment1.ipynb",
      "provenance": [],
      "mount_file_id": "1-seP6vvgRYfoI4TDm27IL_CkeC04u3kF",
      "authorship_tag": "ABX9TyPzpOR6JLJLZlyxojYbBXcX",
      "include_colab_link": true
    },
    "kernelspec": {
      "name": "python3",
      "display_name": "Python 3"
    },
    "language_info": {
      "name": "python"
    }
  },
  "cells": [
    {
      "cell_type": "markdown",
      "metadata": {
        "id": "view-in-github",
        "colab_type": "text"
      },
      "source": [
        "<a href=\"https://colab.research.google.com/github/pranitha2144/SignLanguagetoText/blob/main/Experiment1.ipynb\" target=\"_parent\"><img src=\"https://colab.research.google.com/assets/colab-badge.svg\" alt=\"Open In Colab\"/></a>"
      ]
    },
    {
      "cell_type": "code",
      "metadata": {
        "id": "N-fcs8dzWw-j"
      },
      "source": [
        "from keras.models import Sequential\n",
        "from keras.layers import Convolution2D\n",
        "from keras.layers import MaxPooling2D\n",
        "from keras.layers import Flatten\n",
        "from keras.layers import Dense , Dropout\n",
        "from tensorflow.keras import models\n",
        "import numpy as np\n",
        "\n",
        "sz=128"
      ],
      "execution_count": 76,
      "outputs": []
    },
    {
      "cell_type": "code",
      "metadata": {
        "colab": {
          "base_uri": "https://localhost:8080/"
        },
        "id": "uhcCNdooW6yG",
        "outputId": "9c1a9f0a-3250-4b88-f79b-43172ff8e1be"
      },
      "source": [
        "# load json and create model\n",
        "json_file = open('/content/drive/MyDrive/Major project- IV-II/model-bw.json', 'r')\n",
        "loaded_model_json = json_file.read()\n",
        "json_file.close()\n",
        "loaded_model = models.model_from_json(loaded_model_json)\n",
        "# load weights into new model\n",
        "loaded_model.load_weights(\"/content/drive/MyDrive/Major project- IV-II/model-bw.h5\")\n",
        "print(\"Loaded model from disk\")\n",
        " \n",
        "# evaluate loaded model on test data\n",
        "loaded_model.compile(loss='categorical_crossentropy', optimizer='adam', metrics=['accuracy'])\n",
        "loss, acc= loaded_model.evaluate(test_set, verbose=2)"
      ],
      "execution_count": 82,
      "outputs": [
        {
          "output_type": "stream",
          "text": [
            "Loaded model from disk\n",
            "427/427 - 25s - loss: 4.8443e-05 - accuracy: 1.0000\n"
          ],
          "name": "stdout"
        }
      ]
    },
    {
      "cell_type": "code",
      "metadata": {
        "id": "H0ciAGETrBS1"
      },
      "source": [
        "import tensorflow as tf\n",
        "from tensorflow.keras.applications.resnet50 import preprocess_input, decode_predictions\n",
        "from tensorflow.keras.preprocessing import image\n",
        "# Helper libraries\n",
        "import numpy as np\n",
        "import matplotlib.pyplot as plt\n"
      ],
      "execution_count": 86,
      "outputs": []
    },
    {
      "cell_type": "code",
      "metadata": {
        "id": "cvff9mfUrFQV"
      },
      "source": [
        "img_path = \"/content/drive/MyDrive/Major project- IV-II/test/W/117.jpg\"\n",
        "img = image.load_img(img_path, target_size=(128, 128,1),color_mode='grayscale')"
      ],
      "execution_count": 126,
      "outputs": []
    },
    {
      "cell_type": "code",
      "metadata": {
        "id": "M0RhLbMjrhix"
      },
      "source": [
        "img_array = image.img_to_array(img)\n",
        "img_batch = np.expand_dims(img_array, axis=0)"
      ],
      "execution_count": 127,
      "outputs": []
    },
    {
      "cell_type": "code",
      "metadata": {
        "colab": {
          "base_uri": "https://localhost:8080/",
          "height": 323
        },
        "id": "1RH43YFTrlRD",
        "outputId": "2948fbe5-6e16-4f8d-a14e-b652896bc44b"
      },
      "source": [
        ""
      ],
      "execution_count": 106,
      "outputs": [
        {
          "output_type": "error",
          "ename": "IndexError",
          "evalue": "ignored",
          "traceback": [
            "\u001b[0;31m---------------------------------------------------------------------------\u001b[0m",
            "\u001b[0;31mIndexError\u001b[0m                                Traceback (most recent call last)",
            "\u001b[0;32m<ipython-input-106-2844c890ebd5>\u001b[0m in \u001b[0;36m<module>\u001b[0;34m()\u001b[0m\n\u001b[0;32m----> 1\u001b[0;31m \u001b[0mimg_preprocessed\u001b[0m \u001b[0;34m=\u001b[0m \u001b[0mpreprocess_input\u001b[0m\u001b[0;34m(\u001b[0m\u001b[0mimg_batch\u001b[0m\u001b[0;34m)\u001b[0m\u001b[0;34m\u001b[0m\u001b[0;34m\u001b[0m\u001b[0m\n\u001b[0m",
            "\u001b[0;32m/usr/local/lib/python3.7/dist-packages/tensorflow/python/keras/applications/resnet.py\u001b[0m in \u001b[0;36mpreprocess_input\u001b[0;34m(x, data_format)\u001b[0m\n\u001b[1;32m    519\u001b[0m \u001b[0;32mdef\u001b[0m \u001b[0mpreprocess_input\u001b[0m\u001b[0;34m(\u001b[0m\u001b[0mx\u001b[0m\u001b[0;34m,\u001b[0m \u001b[0mdata_format\u001b[0m\u001b[0;34m=\u001b[0m\u001b[0;32mNone\u001b[0m\u001b[0;34m)\u001b[0m\u001b[0;34m:\u001b[0m\u001b[0;34m\u001b[0m\u001b[0;34m\u001b[0m\u001b[0m\n\u001b[1;32m    520\u001b[0m   return imagenet_utils.preprocess_input(\n\u001b[0;32m--> 521\u001b[0;31m       x, data_format=data_format, mode='caffe')\n\u001b[0m\u001b[1;32m    522\u001b[0m \u001b[0;34m\u001b[0m\u001b[0m\n\u001b[1;32m    523\u001b[0m \u001b[0;34m\u001b[0m\u001b[0m\n",
            "\u001b[0;32m/usr/local/lib/python3.7/dist-packages/tensorflow/python/keras/applications/imagenet_utils.py\u001b[0m in \u001b[0;36mpreprocess_input\u001b[0;34m(x, data_format, mode)\u001b[0m\n\u001b[1;32m    114\u001b[0m   \u001b[0;32mif\u001b[0m \u001b[0misinstance\u001b[0m\u001b[0;34m(\u001b[0m\u001b[0mx\u001b[0m\u001b[0;34m,\u001b[0m \u001b[0mnp\u001b[0m\u001b[0;34m.\u001b[0m\u001b[0mndarray\u001b[0m\u001b[0;34m)\u001b[0m\u001b[0;34m:\u001b[0m\u001b[0;34m\u001b[0m\u001b[0;34m\u001b[0m\u001b[0m\n\u001b[1;32m    115\u001b[0m     return _preprocess_numpy_input(\n\u001b[0;32m--> 116\u001b[0;31m         x, data_format=data_format, mode=mode)\n\u001b[0m\u001b[1;32m    117\u001b[0m   \u001b[0;32melse\u001b[0m\u001b[0;34m:\u001b[0m\u001b[0;34m\u001b[0m\u001b[0;34m\u001b[0m\u001b[0m\n\u001b[1;32m    118\u001b[0m     return _preprocess_symbolic_input(\n",
            "\u001b[0;32m/usr/local/lib/python3.7/dist-packages/tensorflow/python/keras/applications/imagenet_utils.py\u001b[0m in \u001b[0;36m_preprocess_numpy_input\u001b[0;34m(x, data_format, mode)\u001b[0m\n\u001b[1;32m    231\u001b[0m   \u001b[0;32melse\u001b[0m\u001b[0;34m:\u001b[0m\u001b[0;34m\u001b[0m\u001b[0;34m\u001b[0m\u001b[0m\n\u001b[1;32m    232\u001b[0m     \u001b[0mx\u001b[0m\u001b[0;34m[\u001b[0m\u001b[0;34m...\u001b[0m\u001b[0;34m,\u001b[0m \u001b[0;36m0\u001b[0m\u001b[0;34m]\u001b[0m \u001b[0;34m-=\u001b[0m \u001b[0mmean\u001b[0m\u001b[0;34m[\u001b[0m\u001b[0;36m0\u001b[0m\u001b[0;34m]\u001b[0m\u001b[0;34m\u001b[0m\u001b[0;34m\u001b[0m\u001b[0m\n\u001b[0;32m--> 233\u001b[0;31m     \u001b[0mx\u001b[0m\u001b[0;34m[\u001b[0m\u001b[0;34m...\u001b[0m\u001b[0;34m,\u001b[0m \u001b[0;36m1\u001b[0m\u001b[0;34m]\u001b[0m \u001b[0;34m-=\u001b[0m \u001b[0mmean\u001b[0m\u001b[0;34m[\u001b[0m\u001b[0;36m1\u001b[0m\u001b[0;34m]\u001b[0m\u001b[0;34m\u001b[0m\u001b[0;34m\u001b[0m\u001b[0m\n\u001b[0m\u001b[1;32m    234\u001b[0m     \u001b[0mx\u001b[0m\u001b[0;34m[\u001b[0m\u001b[0;34m...\u001b[0m\u001b[0;34m,\u001b[0m \u001b[0;36m2\u001b[0m\u001b[0;34m]\u001b[0m \u001b[0;34m-=\u001b[0m \u001b[0mmean\u001b[0m\u001b[0;34m[\u001b[0m\u001b[0;36m2\u001b[0m\u001b[0;34m]\u001b[0m\u001b[0;34m\u001b[0m\u001b[0;34m\u001b[0m\u001b[0m\n\u001b[1;32m    235\u001b[0m     \u001b[0;32mif\u001b[0m \u001b[0mstd\u001b[0m \u001b[0;32mis\u001b[0m \u001b[0;32mnot\u001b[0m \u001b[0;32mNone\u001b[0m\u001b[0;34m:\u001b[0m\u001b[0;34m\u001b[0m\u001b[0;34m\u001b[0m\u001b[0m\n",
            "\u001b[0;31mIndexError\u001b[0m: index 1 is out of bounds for axis 3 with size 1"
          ]
        }
      ]
    },
    {
      "cell_type": "code",
      "metadata": {
        "colab": {
          "base_uri": "https://localhost:8080/"
        },
        "id": "zlm5ZZiDrpFa",
        "outputId": "e284821c-630c-4e49-b523-9e03f3bdb93f"
      },
      "source": [
        "import numpy as np\n",
        "\n",
        "prediction = loaded_model.predict(img_batch)\n",
        "np.argmax(prediction)"
      ],
      "execution_count": 128,
      "outputs": [
        {
          "output_type": "execute_result",
          "data": {
            "text/plain": [
              "23"
            ]
          },
          "metadata": {
            "tags": []
          },
          "execution_count": 128
        }
      ]
    },
    {
      "cell_type": "code",
      "metadata": {
        "colab": {
          "base_uri": "https://localhost:8080/"
        },
        "id": "C_3_QLm0vPz4",
        "outputId": "b5790ab6-30ce-4eaf-e2c1-a112624386bc"
      },
      "source": [
        "import os\n",
        "import numpy as np\n",
        "labels=['0','A', 'B', 'C', 'D', 'E', 'F', 'G', 'H', 'I', 'J', 'K', 'L', 'M', 'N', 'O', 'P', 'Q', 'R', 'S', 'T', 'U', 'V', 'W', 'X', 'Y', 'Z']\n",
        "data_path='/content/drive/MyDrive/Major project- IV-II/test'\n",
        "data_dir_list=os.listdir(data_path)\n",
        "actual=[]\n",
        "predicted=[]\n",
        "for dataset in data_dir_list:\n",
        "  print(dataset)\n",
        "  img_list=os.listdir(data_path+'/'+dataset)\n",
        "  correctCount=0\n",
        "  wrongCount=0\n",
        "  for img in img_list:\n",
        "    img_path=data_path+'/'+dataset+'/'+img\n",
        "    img = image.load_img(img_path, target_size=(128, 128,1),color_mode='grayscale')\n",
        "    img_array = image.img_to_array(img)\n",
        "    img_batch = np.expand_dims(img_array, axis=0)\n",
        "    output = loaded_model.predict(img_batch)\n",
        "    ans=np.argmax(output)\n",
        "    actual.append(dataset)\n",
        "    predicted.append(labels[ans])\n",
        "    if( labels[ans] == dataset):\n",
        "      correctCount+=1\n",
        "    else:\n",
        "      wrongCount+=1\n",
        "  print(dataset,\"correct Count {} WrongCount {}\".format(correctCount,wrongCount))"
      ],
      "execution_count": 140,
      "outputs": [
        {
          "output_type": "stream",
          "text": [
            "E\n",
            "E correct Count 155 WrongCount 1\n",
            "T\n",
            "T correct Count 152 WrongCount 3\n",
            "I\n",
            "I correct Count 77 WrongCount 80\n",
            "O\n",
            "O correct Count 167 WrongCount 0\n",
            "M\n",
            "M correct Count 160 WrongCount 5\n",
            "Z\n",
            "Z correct Count 156 WrongCount 0\n",
            "P\n",
            "P correct Count 155 WrongCount 0\n",
            "S\n",
            "S correct Count 125 WrongCount 29\n",
            "A\n",
            "A correct Count 137 WrongCount 19\n",
            "V\n",
            "V correct Count 162 WrongCount 1\n",
            "G\n",
            "G correct Count 151 WrongCount 2\n",
            "H\n",
            "H correct Count 138 WrongCount 27\n",
            "J\n",
            "J correct Count 166 WrongCount 0\n",
            "Q\n",
            "Q correct Count 136 WrongCount 18\n",
            "B\n",
            "B correct Count 145 WrongCount 12\n",
            "W\n",
            "W correct Count 150 WrongCount 6\n",
            "F\n",
            "F correct Count 132 WrongCount 33\n",
            "L\n",
            "L correct Count 155 WrongCount 0\n",
            "X\n",
            "X correct Count 148 WrongCount 5\n",
            "Y\n",
            "Y correct Count 158 WrongCount 0\n",
            "C\n",
            "C correct Count 156 WrongCount 0\n",
            "R\n",
            "R correct Count 157 WrongCount 0\n",
            "0\n",
            "0 correct Count 138 WrongCount 16\n",
            "K\n",
            "K correct Count 164 WrongCount 0\n",
            "D\n",
            "D correct Count 142 WrongCount 13\n",
            "U\n",
            "U correct Count 103 WrongCount 50\n",
            "N\n",
            "N correct Count 159 WrongCount 4\n"
          ],
          "name": "stdout"
        }
      ]
    },
    {
      "cell_type": "code",
      "metadata": {
        "colab": {
          "base_uri": "https://localhost:8080/"
        },
        "id": "4Vxd3AfrznpI",
        "outputId": "dd0fb02e-e205-463e-acda-0def64ca062e"
      },
      "source": [
        "# Python script for confusion matrix creation. \n",
        "from sklearn.metrics import confusion_matrix \n",
        "from sklearn.metrics import accuracy_score \n",
        "from sklearn.metrics import classification_report \n",
        "results = confusion_matrix(actual, predicted) \n",
        "\n",
        "print ('Confusion Matrix :')\n",
        "print(results) \n",
        "print ('Accuracy Score :',accuracy_score(actual, predicted)) \n",
        "print ('Report : ')\n",
        "print (classification_report(actual, predicted)) "
      ],
      "execution_count": 141,
      "outputs": [
        {
          "output_type": "stream",
          "text": [
            "Confusion Matrix :\n",
            "[[138   6   0   0   0   0   0   0   3   0   0   0   1   0   0   0   0   2\n",
            "    1   1   0   0   0   0   0   0   2]\n",
            " [  0 137   1   0   0   3   0   0   0   0   0   0   0   8   4   0   0   0\n",
            "    0   0   0   0   0   3   0   0   0]\n",
            " [  0   0 145   0   0   0   0   0   0   0   0   0   0   0   0   0   0   0\n",
            "    1   0   0   0  11   0   0   0   0]\n",
            " [  0   0   0 156   0   0   0   0   0   0   0   0   0   0   0   0   0   0\n",
            "    0   0   0   0   0   0   0   0   0]\n",
            " [  0   0   0   0 142   0   0   0   0   0   0  10   1   0   0   0   0   0\n",
            "    1   0   0   1   0   0   0   0   0]\n",
            " [  0   0   1   0   0 155   0   0   0   0   0   0   0   0   0   0   0   0\n",
            "    0   0   0   0   0   0   0   0   0]\n",
            " [  0   0   1   0   0   0 132   0   0   0   0   0   1   0   0   0   0   0\n",
            "    5   0   0   3  23   0   0   0   0]\n",
            " [  0   0   0   0   0   0   0 151   0   0   0   0   0   0   0   0   2   0\n",
            "    0   0   0   0   0   0   0   0   0]\n",
            " [  0   6   0   0   0   0   0  10 138   0   0   0   0   1   7   1   0   0\n",
            "    0   0   0   0   0   0   0   2   0]\n",
            " [  0   0   0   0  66   0   0   0   0  77   0   0   0   0   0   0   0   0\n",
            "    0   0  12   1   0   0   0   0   1]\n",
            " [  0   0   0   0   0   0   0   0   0   0 166   0   0   0   0   0   0   0\n",
            "    0   0   0   0   0   0   0   0   0]\n",
            " [  0   0   0   0   0   0   0   0   0   0   0 164   0   0   0   0   0   0\n",
            "    0   0   0   0   0   0   0   0   0]\n",
            " [  0   0   0   0   0   0   0   0   0   0   0   0 155   0   0   0   0   0\n",
            "    0   0   0   0   0   0   0   0   0]\n",
            " [  0   0   0   0   0   0   0   0   0   0   0   4   0 160   0   0   0   0\n",
            "    0   0   1   0   0   0   0   0   0]\n",
            " [  0   3   0   0   0   0   0   0   0   0   0   0   0   1 159   0   0   0\n",
            "    0   0   0   0   0   0   0   0   0]\n",
            " [  0   0   0   0   0   0   0   0   0   0   0   0   0   0   0 167   0   0\n",
            "    0   0   0   0   0   0   0   0   0]\n",
            " [  0   0   0   0   0   0   0   0   0   0   0   0   0   0   0   0 155   0\n",
            "    0   0   0   0   0   0   0   0   0]\n",
            " [  0   0   0   2   0   0   0   0   0   0   0   0   0   0   0  12   1 136\n",
            "    1   0   0   0   0   0   0   0   2]\n",
            " [  0   0   0   0   0   0   0   0   0   0   0   0   0   0   0   0   0   0\n",
            "  157   0   0   0   0   0   0   0   0]\n",
            " [  0   0   0   0   0   2   0   0   0   1   0   0   0   1   3  12   0   0\n",
            "    0 125   1   0   0   1   8   0   0]\n",
            " [  0   0   0   0   0   0   0   0   0   0   0   0   0   0   0   0   2   0\n",
            "    0   0 152   0   0   0   0   1   0]\n",
            " [  0   0   1   0   0   0   0   0   0   0   0   2   0   0   0   0   0   0\n",
            "   44   0   0 103   3   0   0   0   0]\n",
            " [  0   0   0   0   0   0   0   0   0   0   0   0   0   0   0   0   0   0\n",
            "    0   0   0   0 162   1   0   0   0]\n",
            " [  0   0   0   0   0   0   0   0   0   0   0   0   0   0   0   0   0   0\n",
            "    0   0   0   0   6 150   0   0   0]\n",
            " [  0   0   0   0   0   0   0   0   0   0   0   0   0   0   1   3   0   0\n",
            "    0   0   0   0   0   0 148   0   1]\n",
            " [  0   0   0   0   0   0   0   0   0   0   0   0   0   0   0   0   0   0\n",
            "    0   0   0   0   0   0   0 158   0]\n",
            " [  0   0   0   0   0   0   0   0   0   0   0   0   0   0   0   0   0   0\n",
            "    0   0   0   0   0   0   0   0 156]]\n",
            "Accuracy Score : 0.9240862230552952\n",
            "Report : \n",
            "              precision    recall  f1-score   support\n",
            "\n",
            "           0       1.00      0.90      0.95       154\n",
            "           A       0.90      0.88      0.89       156\n",
            "           B       0.97      0.92      0.95       157\n",
            "           C       0.99      1.00      0.99       156\n",
            "           D       0.68      0.92      0.78       155\n",
            "           E       0.97      0.99      0.98       156\n",
            "           F       1.00      0.80      0.89       165\n",
            "           G       0.94      0.99      0.96       153\n",
            "           H       0.98      0.84      0.90       165\n",
            "           I       0.99      0.49      0.66       157\n",
            "           J       1.00      1.00      1.00       166\n",
            "           K       0.91      1.00      0.95       164\n",
            "           L       0.98      1.00      0.99       155\n",
            "           M       0.94      0.97      0.95       165\n",
            "           N       0.91      0.98      0.94       163\n",
            "           O       0.86      1.00      0.92       167\n",
            "           P       0.97      1.00      0.98       155\n",
            "           Q       0.99      0.88      0.93       154\n",
            "           R       0.75      1.00      0.86       157\n",
            "           S       0.99      0.81      0.89       154\n",
            "           T       0.92      0.98      0.95       155\n",
            "           U       0.95      0.67      0.79       153\n",
            "           V       0.79      0.99      0.88       163\n",
            "           W       0.97      0.96      0.96       156\n",
            "           X       0.95      0.97      0.96       153\n",
            "           Y       0.98      1.00      0.99       158\n",
            "           Z       0.96      1.00      0.98       156\n",
            "\n",
            "    accuracy                           0.92      4268\n",
            "   macro avg       0.93      0.92      0.92      4268\n",
            "weighted avg       0.93      0.92      0.92      4268\n",
            "\n"
          ],
          "name": "stdout"
        }
      ]
    }
  ]
}
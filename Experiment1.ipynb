{
  "nbformat": 4,
  "nbformat_minor": 0,
  "metadata": {
    "colab": {
      "name": "Experiment1.ipynb",
      "provenance": [],
      "mount_file_id": "1-seP6vvgRYfoI4TDm27IL_CkeC04u3kF",
      "authorship_tag": "ABX9TyMxgykIAPMQdeFnnGa+7Xr4",
      "include_colab_link": true
    },
    "kernelspec": {
      "name": "python3",
      "display_name": "Python 3"
    },
    "language_info": {
      "name": "python"
    }
  },
  "cells": [
    {
      "cell_type": "markdown",
      "metadata": {
        "id": "view-in-github",
        "colab_type": "text"
      },
      "source": [
        "<a href=\"https://colab.research.google.com/github/pranitha2144/SignLanguagetoText/blob/main/Experiment1.ipynb\" target=\"_parent\"><img src=\"https://colab.research.google.com/assets/colab-badge.svg\" alt=\"Open In Colab\"/></a>"
      ]
    },
    {
      "cell_type": "code",
      "metadata": {
        "id": "N-fcs8dzWw-j"
      },
      "source": [
        "from keras.models import Sequential\n",
        "from keras.layers import Convolution2D\n",
        "from keras.layers import MaxPooling2D\n",
        "from keras.layers import Flatten\n",
        "from keras.layers import Dense , Dropout\n",
        "from tensorflow.keras import models\n",
        "import numpy as np\n",
        "\n",
        "sz=128"
      ],
      "execution_count": 1,
      "outputs": []
    },
    {
      "cell_type": "code",
      "metadata": {
        "colab": {
          "base_uri": "https://localhost:8080/",
          "height": 214
        },
        "id": "uhcCNdooW6yG",
        "outputId": "d99767ab-4050-4056-d6c7-5d4184abee14"
      },
      "source": [
        "# load json and create model\n",
        "json_file = open('/content/drive/MyDrive/Major project- IV-II/models/model-bwexp0.json', 'r')\n",
        "loaded_model_json = json_file.read()\n",
        "json_file.close()\n",
        "loaded_model = models.model_from_json(loaded_model_json)\n",
        "# load weights into new model\n",
        "loaded_model.load_weights(\"/content/drive/MyDrive/Major project- IV-II/models/model-bwexp0.h5\")\n",
        "print(\"Loaded model from disk\")\n",
        " \n",
        "# evaluate loaded model on test data\n",
        "loaded_model.compile(loss='categorical_crossentropy', optimizer='adam', metrics=['accuracy'])\n",
        "loss, acc= loaded_model.evaluate(test_set, verbose=2)"
      ],
      "execution_count": 2,
      "outputs": [
        {
          "output_type": "stream",
          "text": [
            "Loaded model from disk\n"
          ],
          "name": "stdout"
        },
        {
          "output_type": "error",
          "ename": "NameError",
          "evalue": "ignored",
          "traceback": [
            "\u001b[0;31m---------------------------------------------------------------------------\u001b[0m",
            "\u001b[0;31mNameError\u001b[0m                                 Traceback (most recent call last)",
            "\u001b[0;32m<ipython-input-2-088ff217f060>\u001b[0m in \u001b[0;36m<module>\u001b[0;34m()\u001b[0m\n\u001b[1;32m     10\u001b[0m \u001b[0;31m# evaluate loaded model on test data\u001b[0m\u001b[0;34m\u001b[0m\u001b[0;34m\u001b[0m\u001b[0;34m\u001b[0m\u001b[0m\n\u001b[1;32m     11\u001b[0m \u001b[0mloaded_model\u001b[0m\u001b[0;34m.\u001b[0m\u001b[0mcompile\u001b[0m\u001b[0;34m(\u001b[0m\u001b[0mloss\u001b[0m\u001b[0;34m=\u001b[0m\u001b[0;34m'categorical_crossentropy'\u001b[0m\u001b[0;34m,\u001b[0m \u001b[0moptimizer\u001b[0m\u001b[0;34m=\u001b[0m\u001b[0;34m'adam'\u001b[0m\u001b[0;34m,\u001b[0m \u001b[0mmetrics\u001b[0m\u001b[0;34m=\u001b[0m\u001b[0;34m[\u001b[0m\u001b[0;34m'accuracy'\u001b[0m\u001b[0;34m]\u001b[0m\u001b[0;34m)\u001b[0m\u001b[0;34m\u001b[0m\u001b[0;34m\u001b[0m\u001b[0m\n\u001b[0;32m---> 12\u001b[0;31m \u001b[0mloss\u001b[0m\u001b[0;34m,\u001b[0m \u001b[0macc\u001b[0m\u001b[0;34m=\u001b[0m \u001b[0mloaded_model\u001b[0m\u001b[0;34m.\u001b[0m\u001b[0mevaluate\u001b[0m\u001b[0;34m(\u001b[0m\u001b[0mtest_set\u001b[0m\u001b[0;34m,\u001b[0m \u001b[0mverbose\u001b[0m\u001b[0;34m=\u001b[0m\u001b[0;36m2\u001b[0m\u001b[0;34m)\u001b[0m\u001b[0;34m\u001b[0m\u001b[0;34m\u001b[0m\u001b[0m\n\u001b[0m",
            "\u001b[0;31mNameError\u001b[0m: name 'test_set' is not defined"
          ]
        }
      ]
    },
    {
      "cell_type": "code",
      "metadata": {
        "id": "H0ciAGETrBS1"
      },
      "source": [
        "import tensorflow as tf\n",
        "from tensorflow.keras.applications.resnet50 import preprocess_input, decode_predictions\n",
        "from tensorflow.keras.preprocessing import image\n",
        "# Helper libraries\n",
        "import numpy as np\n",
        "import matplotlib.pyplot as plt\n"
      ],
      "execution_count": 3,
      "outputs": []
    },
    {
      "cell_type": "code",
      "metadata": {
        "id": "cvff9mfUrFQV"
      },
      "source": [
        "img_path = \"/content/drive/MyDrive/Major project- IV-II/test/W/117.jpg\"\n",
        "img = image.load_img(img_path, target_size=(128, 128,1),color_mode='grayscale')"
      ],
      "execution_count": 4,
      "outputs": []
    },
    {
      "cell_type": "code",
      "metadata": {
        "id": "M0RhLbMjrhix"
      },
      "source": [
        "img_array = image.img_to_array(img)\n",
        "img_batch = np.expand_dims(img_array, axis=0)"
      ],
      "execution_count": 5,
      "outputs": []
    },
    {
      "cell_type": "code",
      "metadata": {
        "colab": {
          "base_uri": "https://localhost:8080/",
          "height": 323
        },
        "id": "1RH43YFTrlRD",
        "outputId": "2948fbe5-6e16-4f8d-a14e-b652896bc44b"
      },
      "source": [
        ""
      ],
      "execution_count": null,
      "outputs": [
        {
          "output_type": "error",
          "ename": "IndexError",
          "evalue": "ignored",
          "traceback": [
            "\u001b[0;31m---------------------------------------------------------------------------\u001b[0m",
            "\u001b[0;31mIndexError\u001b[0m                                Traceback (most recent call last)",
            "\u001b[0;32m<ipython-input-106-2844c890ebd5>\u001b[0m in \u001b[0;36m<module>\u001b[0;34m()\u001b[0m\n\u001b[0;32m----> 1\u001b[0;31m \u001b[0mimg_preprocessed\u001b[0m \u001b[0;34m=\u001b[0m \u001b[0mpreprocess_input\u001b[0m\u001b[0;34m(\u001b[0m\u001b[0mimg_batch\u001b[0m\u001b[0;34m)\u001b[0m\u001b[0;34m\u001b[0m\u001b[0;34m\u001b[0m\u001b[0m\n\u001b[0m",
            "\u001b[0;32m/usr/local/lib/python3.7/dist-packages/tensorflow/python/keras/applications/resnet.py\u001b[0m in \u001b[0;36mpreprocess_input\u001b[0;34m(x, data_format)\u001b[0m\n\u001b[1;32m    519\u001b[0m \u001b[0;32mdef\u001b[0m \u001b[0mpreprocess_input\u001b[0m\u001b[0;34m(\u001b[0m\u001b[0mx\u001b[0m\u001b[0;34m,\u001b[0m \u001b[0mdata_format\u001b[0m\u001b[0;34m=\u001b[0m\u001b[0;32mNone\u001b[0m\u001b[0;34m)\u001b[0m\u001b[0;34m:\u001b[0m\u001b[0;34m\u001b[0m\u001b[0;34m\u001b[0m\u001b[0m\n\u001b[1;32m    520\u001b[0m   return imagenet_utils.preprocess_input(\n\u001b[0;32m--> 521\u001b[0;31m       x, data_format=data_format, mode='caffe')\n\u001b[0m\u001b[1;32m    522\u001b[0m \u001b[0;34m\u001b[0m\u001b[0m\n\u001b[1;32m    523\u001b[0m \u001b[0;34m\u001b[0m\u001b[0m\n",
            "\u001b[0;32m/usr/local/lib/python3.7/dist-packages/tensorflow/python/keras/applications/imagenet_utils.py\u001b[0m in \u001b[0;36mpreprocess_input\u001b[0;34m(x, data_format, mode)\u001b[0m\n\u001b[1;32m    114\u001b[0m   \u001b[0;32mif\u001b[0m \u001b[0misinstance\u001b[0m\u001b[0;34m(\u001b[0m\u001b[0mx\u001b[0m\u001b[0;34m,\u001b[0m \u001b[0mnp\u001b[0m\u001b[0;34m.\u001b[0m\u001b[0mndarray\u001b[0m\u001b[0;34m)\u001b[0m\u001b[0;34m:\u001b[0m\u001b[0;34m\u001b[0m\u001b[0;34m\u001b[0m\u001b[0m\n\u001b[1;32m    115\u001b[0m     return _preprocess_numpy_input(\n\u001b[0;32m--> 116\u001b[0;31m         x, data_format=data_format, mode=mode)\n\u001b[0m\u001b[1;32m    117\u001b[0m   \u001b[0;32melse\u001b[0m\u001b[0;34m:\u001b[0m\u001b[0;34m\u001b[0m\u001b[0;34m\u001b[0m\u001b[0m\n\u001b[1;32m    118\u001b[0m     return _preprocess_symbolic_input(\n",
            "\u001b[0;32m/usr/local/lib/python3.7/dist-packages/tensorflow/python/keras/applications/imagenet_utils.py\u001b[0m in \u001b[0;36m_preprocess_numpy_input\u001b[0;34m(x, data_format, mode)\u001b[0m\n\u001b[1;32m    231\u001b[0m   \u001b[0;32melse\u001b[0m\u001b[0;34m:\u001b[0m\u001b[0;34m\u001b[0m\u001b[0;34m\u001b[0m\u001b[0m\n\u001b[1;32m    232\u001b[0m     \u001b[0mx\u001b[0m\u001b[0;34m[\u001b[0m\u001b[0;34m...\u001b[0m\u001b[0;34m,\u001b[0m \u001b[0;36m0\u001b[0m\u001b[0;34m]\u001b[0m \u001b[0;34m-=\u001b[0m \u001b[0mmean\u001b[0m\u001b[0;34m[\u001b[0m\u001b[0;36m0\u001b[0m\u001b[0;34m]\u001b[0m\u001b[0;34m\u001b[0m\u001b[0;34m\u001b[0m\u001b[0m\n\u001b[0;32m--> 233\u001b[0;31m     \u001b[0mx\u001b[0m\u001b[0;34m[\u001b[0m\u001b[0;34m...\u001b[0m\u001b[0;34m,\u001b[0m \u001b[0;36m1\u001b[0m\u001b[0;34m]\u001b[0m \u001b[0;34m-=\u001b[0m \u001b[0mmean\u001b[0m\u001b[0;34m[\u001b[0m\u001b[0;36m1\u001b[0m\u001b[0;34m]\u001b[0m\u001b[0;34m\u001b[0m\u001b[0;34m\u001b[0m\u001b[0m\n\u001b[0m\u001b[1;32m    234\u001b[0m     \u001b[0mx\u001b[0m\u001b[0;34m[\u001b[0m\u001b[0;34m...\u001b[0m\u001b[0;34m,\u001b[0m \u001b[0;36m2\u001b[0m\u001b[0;34m]\u001b[0m \u001b[0;34m-=\u001b[0m \u001b[0mmean\u001b[0m\u001b[0;34m[\u001b[0m\u001b[0;36m2\u001b[0m\u001b[0;34m]\u001b[0m\u001b[0;34m\u001b[0m\u001b[0;34m\u001b[0m\u001b[0m\n\u001b[1;32m    235\u001b[0m     \u001b[0;32mif\u001b[0m \u001b[0mstd\u001b[0m \u001b[0;32mis\u001b[0m \u001b[0;32mnot\u001b[0m \u001b[0;32mNone\u001b[0m\u001b[0;34m:\u001b[0m\u001b[0;34m\u001b[0m\u001b[0;34m\u001b[0m\u001b[0m\n",
            "\u001b[0;31mIndexError\u001b[0m: index 1 is out of bounds for axis 3 with size 1"
          ]
        }
      ]
    },
    {
      "cell_type": "code",
      "metadata": {
        "colab": {
          "base_uri": "https://localhost:8080/"
        },
        "id": "zlm5ZZiDrpFa",
        "outputId": "dce36942-8c4c-41b6-9cb2-e0456716d9e8"
      },
      "source": [
        "import numpy as np\n",
        "\n",
        "prediction = loaded_model.predict(img_batch)\n",
        "np.argmax(prediction)"
      ],
      "execution_count": 6,
      "outputs": [
        {
          "output_type": "execute_result",
          "data": {
            "text/plain": [
              "23"
            ]
          },
          "metadata": {
            "tags": []
          },
          "execution_count": 6
        }
      ]
    },
    {
      "cell_type": "code",
      "metadata": {
        "colab": {
          "base_uri": "https://localhost:8080/"
        },
        "id": "C_3_QLm0vPz4",
        "outputId": "2bc0d903-6893-441a-eef3-a15f5b4e206c"
      },
      "source": [
        "import os\n",
        "import numpy as np\n",
        "labels=['0','A', 'B', 'C', 'D', 'E', 'F', 'G', 'H', 'I', 'J', 'K', 'L', 'M', 'N', 'O', 'P', 'Q', 'R', 'S', 'T', 'U', 'V', 'W', 'X', 'Y', 'Z']\n",
        "data_path='/content/drive/MyDrive/Major project- IV-II/test'\n",
        "data_dir_list=os.listdir(data_path)\n",
        "actual=[]\n",
        "predicted=[]\n",
        "for dataset in data_dir_list:\n",
        "  print(dataset)\n",
        "  img_list=os.listdir(data_path+'/'+dataset)\n",
        "  correctCount=0\n",
        "  wrongCount=0\n",
        "  for img in img_list:\n",
        "    img_path=data_path+'/'+dataset+'/'+img\n",
        "    img = image.load_img(img_path, target_size=(128, 128,1),color_mode='grayscale')\n",
        "    img_array = image.img_to_array(img)\n",
        "    img_batch = np.expand_dims(img_array, axis=0)\n",
        "    output = loaded_model.predict(img_batch)\n",
        "    ans=np.argmax(output)\n",
        "    actual.append(dataset)\n",
        "    predicted.append(labels[ans])\n",
        "    if( labels[ans] == dataset):\n",
        "      correctCount+=1\n",
        "    else:\n",
        "      wrongCount+=1\n",
        "  print(dataset,\"correct Count {} WrongCount {}\".format(correctCount,wrongCount))"
      ],
      "execution_count": 7,
      "outputs": [
        {
          "output_type": "stream",
          "text": [
            "E\n",
            "E correct Count 156 WrongCount 0\n",
            "T\n",
            "T correct Count 107 WrongCount 48\n",
            "I\n",
            "I correct Count 124 WrongCount 33\n",
            "O\n",
            "O correct Count 167 WrongCount 0\n",
            "M\n",
            "M correct Count 49 WrongCount 116\n",
            "Z\n",
            "Z correct Count 156 WrongCount 0\n",
            "P\n",
            "P correct Count 155 WrongCount 0\n",
            "S\n",
            "S correct Count 154 WrongCount 0\n",
            "A\n",
            "A correct Count 136 WrongCount 20\n",
            "V\n",
            "V correct Count 125 WrongCount 38\n",
            "G\n",
            "G correct Count 148 WrongCount 5\n",
            "H\n",
            "H correct Count 165 WrongCount 0\n",
            "J\n",
            "J correct Count 166 WrongCount 0\n",
            "Q\n",
            "Q correct Count 151 WrongCount 3\n",
            "B\n",
            "B correct Count 157 WrongCount 0\n",
            "W\n",
            "W correct Count 156 WrongCount 0\n",
            "F\n",
            "F correct Count 147 WrongCount 18\n",
            "L\n",
            "L correct Count 155 WrongCount 0\n",
            "X\n",
            "X correct Count 153 WrongCount 0\n",
            "Y\n",
            "Y correct Count 157 WrongCount 1\n",
            "C\n",
            "C correct Count 156 WrongCount 0\n",
            "R\n",
            "R correct Count 151 WrongCount 6\n",
            "0\n",
            "0 correct Count 40 WrongCount 114\n",
            "K\n",
            "K correct Count 63 WrongCount 101\n",
            "D\n",
            "D correct Count 153 WrongCount 2\n",
            "U\n",
            "U correct Count 25 WrongCount 128\n",
            "N\n",
            "N correct Count 88 WrongCount 75\n"
          ],
          "name": "stdout"
        }
      ]
    },
    {
      "cell_type": "code",
      "metadata": {
        "colab": {
          "base_uri": "https://localhost:8080/"
        },
        "id": "4Vxd3AfrznpI",
        "outputId": "a705dcc0-8fba-40fd-f884-33345c1f3c01"
      },
      "source": [
        "# Python script for confusion matrix creation. \n",
        "from sklearn.metrics import confusion_matrix \n",
        "from sklearn.metrics import accuracy_score \n",
        "from sklearn.metrics import classification_report \n",
        "results = confusion_matrix(actual, predicted) \n",
        "\n",
        "print ('Confusion Matrix :')\n",
        "print(results) \n",
        "print ('Accuracy Score :',accuracy_score(actual, predicted)) \n",
        "print ('Report : ')\n",
        "print (classification_report(actual, predicted)) "
      ],
      "execution_count": 8,
      "outputs": [
        {
          "output_type": "stream",
          "text": [
            "Confusion Matrix :\n",
            "[[ 40   1   0  12   0   1   1  13   7   0  13   0   2   0   0   4  18   0\n",
            "    0   0   0   3   1   5   3   1  29]\n",
            " [  0 136   0   0   0   0   0   0  12   0   8   0   0   0   0   0   0   0\n",
            "    0   0   0   0   0   0   0   0   0]\n",
            " [  0   0 157   0   0   0   0   0   0   0   0   0   0   0   0   0   0   0\n",
            "    0   0   0   0   0   0   0   0   0]\n",
            " [  0   0   0 156   0   0   0   0   0   0   0   0   0   0   0   0   0   0\n",
            "    0   0   0   0   0   0   0   0   0]\n",
            " [  0   0   0   0 153   0   0   0   0   1   0   0   0   0   0   0   0   0\n",
            "    0   0   0   0   0   0   0   0   1]\n",
            " [  0   0   0   0   0 156   0   0   0   0   0   0   0   0   0   0   0   0\n",
            "    0   0   0   0   0   0   0   0   0]\n",
            " [  0   0   0   0   0   0 147   0   0   0   0   0   0   0   0   0   0   0\n",
            "    0   0   0   0   0   0   1   0  17]\n",
            " [  0   0   0   0   0   0   0 148   5   0   0   0   0   0   0   0   0   0\n",
            "    0   0   0   0   0   0   0   0   0]\n",
            " [  0   0   0   0   0   0   0   0 165   0   0   0   0   0   0   0   0   0\n",
            "    0   0   0   0   0   0   0   0   0]\n",
            " [  0   0   0   0   0   0   0   0   0 124   0   0   0   0   0   1   0   0\n",
            "    0   0   0   0   0   0   0   0  32]\n",
            " [  0   0   0   0   0   0   0   0   0   0 166   0   0   0   0   0   0   0\n",
            "    0   0   0   0   0   0   0   0   0]\n",
            " [  0   0  69   0   0   0   3   0   0   0   0  63   0   0   0   6   0   0\n",
            "    5   1   0   0   9   0   2   0   6]\n",
            " [  0   0   0   0   0   0   0   0   0   0   0   0 155   0   0   0   0   0\n",
            "    0   0   0   0   0   0   0   0   0]\n",
            " [  0   0   0   0   0   0   0   0   1   0   0   0   0  49   0   2   1   0\n",
            "    0 106   0   0   0   0   6   0   0]\n",
            " [  0   0   0  21   0   0   0   0   0   0   0   0   0   0  88  35   0   0\n",
            "    0  13   6   0   0   0   0   0   0]\n",
            " [  0   0   0   0   0   0   0   0   0   0   0   0   0   0   0 167   0   0\n",
            "    0   0   0   0   0   0   0   0   0]\n",
            " [  0   0   0   0   0   0   0   0   0   0   0   0   0   0   0   0 155   0\n",
            "    0   0   0   0   0   0   0   0   0]\n",
            " [  0   0   0   0   0   0   0   0   0   0   0   0   0   0   0   0   2 151\n",
            "    0   0   0   0   0   0   1   0   0]\n",
            " [  0   0   1   0   0   0   2   0   0   0   0   0   2   0   0   0   0   0\n",
            "  151   0   0   0   0   0   0   0   1]\n",
            " [  0   0   0   0   0   0   0   0   0   0   0   0   0   0   0   0   0   0\n",
            "    0 154   0   0   0   0   0   0   0]\n",
            " [  0   0   0  16   0   0   0   0   0   0   1   0   0   0   0  22   0   0\n",
            "    0   4 107   0   0   5   0   0   0]\n",
            " [  0   0  45   0   4   2   7   0   0   0   0   0   1   0   0   0   0   0\n",
            "   66   0   0  25   1   0   0   0   2]\n",
            " [  0   0   4   0   0   0   0   0   0   0   0   0   0   0   0   0   0   0\n",
            "    0   0   0   0 125  34   0   0   0]\n",
            " [  0   0   0   0   0   0   0   0   0   0   0   0   0   0   0   0   0   0\n",
            "    0   0   0   0   0 156   0   0   0]\n",
            " [  0   0   0   0   0   0   0   0   0   0   0   0   0   0   0   0   0   0\n",
            "    0   0   0   0   0   0 153   0   0]\n",
            " [  0   0   0   0   0   0   0   0   0   0   0   0   0   0   0   0   0   0\n",
            "    0   0   0   0   0   0   0 157   1]\n",
            " [  0   0   0   0   0   0   0   0   0   0   0   0   0   0   0   0   0   0\n",
            "    0   0   0   0   0   0   0   0 156]]\n",
            "Accuracy Score : 0.8341143392689785\n",
            "Report : \n",
            "              precision    recall  f1-score   support\n",
            "\n",
            "           0       1.00      0.26      0.41       154\n",
            "           A       0.99      0.87      0.93       156\n",
            "           B       0.57      1.00      0.73       157\n",
            "           C       0.76      1.00      0.86       156\n",
            "           D       0.97      0.99      0.98       155\n",
            "           E       0.98      1.00      0.99       156\n",
            "           F       0.92      0.89      0.90       165\n",
            "           G       0.92      0.97      0.94       153\n",
            "           H       0.87      1.00      0.93       165\n",
            "           I       0.99      0.79      0.88       157\n",
            "           J       0.88      1.00      0.94       166\n",
            "           K       1.00      0.38      0.56       164\n",
            "           L       0.97      1.00      0.98       155\n",
            "           M       1.00      0.30      0.46       165\n",
            "           N       1.00      0.54      0.70       163\n",
            "           O       0.70      1.00      0.83       167\n",
            "           P       0.88      1.00      0.94       155\n",
            "           Q       1.00      0.98      0.99       154\n",
            "           R       0.68      0.96      0.80       157\n",
            "           S       0.55      1.00      0.71       154\n",
            "           T       0.95      0.69      0.80       155\n",
            "           U       0.89      0.16      0.28       153\n",
            "           V       0.92      0.77      0.84       163\n",
            "           W       0.78      1.00      0.88       156\n",
            "           X       0.92      1.00      0.96       153\n",
            "           Y       0.99      0.99      0.99       158\n",
            "           Z       0.64      1.00      0.78       156\n",
            "\n",
            "    accuracy                           0.83      4268\n",
            "   macro avg       0.88      0.83      0.81      4268\n",
            "weighted avg       0.88      0.83      0.81      4268\n",
            "\n"
          ],
          "name": "stdout"
        }
      ]
    }
  ]
}
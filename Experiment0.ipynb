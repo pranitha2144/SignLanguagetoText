{
  "nbformat": 4,
  "nbformat_minor": 0,
  "metadata": {
    "colab": {
      "name": "Experiment0.ipynb",
      "provenance": [],
      "collapsed_sections": [],
      "mount_file_id": "1qS88j4lXY3rfKnVP1ib2_9ZtuATWS0tj",
      "authorship_tag": "ABX9TyOCqIrjcrFva0U7lP3Xdw9k",
      "include_colab_link": true
    },
    "kernelspec": {
      "name": "python3",
      "display_name": "Python 3"
    },
    "language_info": {
      "name": "python"
    }
  },
  "cells": [
    {
      "cell_type": "markdown",
      "metadata": {
        "id": "view-in-github",
        "colab_type": "text"
      },
      "source": [
        "<a href=\"https://colab.research.google.com/github/pranitha2144/SignLanguagetoText/blob/main/Experiment0.ipynb\" target=\"_parent\"><img src=\"https://colab.research.google.com/assets/colab-badge.svg\" alt=\"Open In Colab\"/></a>"
      ]
    },
    {
      "cell_type": "code",
      "metadata": {
        "id": "9G4yu_zVbkCi"
      },
      "source": [
        "from keras.models import Sequential\n",
        "from keras.layers import Convolution2D\n",
        "from keras.layers import MaxPooling2D\n",
        "from keras.layers import Flatten\n",
        "from keras.layers import Dense , Dropout\n",
        "sz=128"
      ],
      "execution_count": 1,
      "outputs": []
    },
    {
      "cell_type": "code",
      "metadata": {
        "id": "9vB92KN4dxLz"
      },
      "source": [
        "# Initializing the CNN\n",
        "classifier = Sequential()"
      ],
      "execution_count": 3,
      "outputs": []
    },
    {
      "cell_type": "code",
      "metadata": {
        "id": "91vFh28pd6kW"
      },
      "source": [
        "# First convolution layer and pooling\n",
        "classifier.add(Convolution2D(32, (3, 3), input_shape=(sz, sz, 1), activation='relu'))\n",
        "classifier.add(MaxPooling2D(pool_size=(2, 2)))\n",
        "# Second convolution layer and pooling\n",
        "classifier.add(Convolution2D(32, (3, 3), activation='relu'))\n",
        "# input_shape is going to be the pooled feature maps from the previous convolution layer\n",
        "classifier.add(MaxPooling2D(pool_size=(2, 2)))"
      ],
      "execution_count": 4,
      "outputs": []
    },
    {
      "cell_type": "code",
      "metadata": {
        "id": "JR2a7j4XeIN-"
      },
      "source": [
        "# Flattening the layers\n",
        "classifier.add(Flatten())\n",
        "\n",
        "# Adding a fully connected layer\n",
        "classifier.add(Dense(units=128, activation='relu'))\n",
        "classifier.add(Dropout(0.40))\n",
        "classifier.add(Dense(units=96, activation='relu'))\n",
        "classifier.add(Dropout(0.40))\n",
        "classifier.add(Dense(units=64, activation='relu'))\n",
        "classifier.add(Dense(units=27, activation='softmax')) # softmax for more than 2\n",
        "\n",
        "# Compiling the CNN\n",
        "classifier.compile(optimizer='adam', loss='categorical_crossentropy', metrics=['accuracy'])"
      ],
      "execution_count": 5,
      "outputs": []
    },
    {
      "cell_type": "code",
      "metadata": {
        "colab": {
          "base_uri": "https://localhost:8080/"
        },
        "id": "dCFxyGvKeOq1",
        "outputId": "d89ead64-cb80-475b-876f-d4cd8d1561bb"
      },
      "source": [
        "# Step 2 - Preparing the train/test data and training the model\n",
        "classifier.summary()\n",
        "# Code copied from - https://keras.io/preprocessing/image/\n",
        "from keras.preprocessing.image import ImageDataGenerator\n",
        "\n",
        "train_datagen = ImageDataGenerator(\n",
        "        rescale=1./255,\n",
        "        shear_range=0.2,\n",
        "        zoom_range=0.2,\n",
        "        horizontal_flip=True)\n",
        "\n",
        "test_datagen = ImageDataGenerator(rescale=1./255)"
      ],
      "execution_count": 6,
      "outputs": [
        {
          "output_type": "stream",
          "text": [
            "Model: \"sequential_1\"\n",
            "_________________________________________________________________\n",
            "Layer (type)                 Output Shape              Param #   \n",
            "=================================================================\n",
            "conv2d (Conv2D)              (None, 126, 126, 32)      320       \n",
            "_________________________________________________________________\n",
            "max_pooling2d (MaxPooling2D) (None, 63, 63, 32)        0         \n",
            "_________________________________________________________________\n",
            "conv2d_1 (Conv2D)            (None, 61, 61, 32)        9248      \n",
            "_________________________________________________________________\n",
            "max_pooling2d_1 (MaxPooling2 (None, 30, 30, 32)        0         \n",
            "_________________________________________________________________\n",
            "flatten (Flatten)            (None, 28800)             0         \n",
            "_________________________________________________________________\n",
            "dense (Dense)                (None, 128)               3686528   \n",
            "_________________________________________________________________\n",
            "dropout (Dropout)            (None, 128)               0         \n",
            "_________________________________________________________________\n",
            "dense_1 (Dense)              (None, 96)                12384     \n",
            "_________________________________________________________________\n",
            "dropout_1 (Dropout)          (None, 96)                0         \n",
            "_________________________________________________________________\n",
            "dense_2 (Dense)              (None, 64)                6208      \n",
            "_________________________________________________________________\n",
            "dense_3 (Dense)              (None, 27)                1755      \n",
            "=================================================================\n",
            "Total params: 3,716,443\n",
            "Trainable params: 3,716,443\n",
            "Non-trainable params: 0\n",
            "_________________________________________________________________\n"
          ],
          "name": "stdout"
        }
      ]
    },
    {
      "cell_type": "code",
      "metadata": {
        "id": "mo3t6QIeeVmt",
        "colab": {
          "base_uri": "https://localhost:8080/"
        },
        "outputId": "f3f91ef6-4585-4c21-d726-83ef64f028c5"
      },
      "source": [
        "training_set = train_datagen.flow_from_directory('/content/drive/MyDrive/Major project- IV-II/train',\n",
        "                                                 target_size=(sz, sz),\n",
        "                                                 batch_size=10,\n",
        "                                                 color_mode='grayscale',\n",
        "                                                 class_mode='categorical')\n",
        "\n",
        "test_set = test_datagen.flow_from_directory('/content/drive/MyDrive/Major project- IV-II/test',\n",
        "                                            target_size=(sz , sz),\n",
        "                                            batch_size=10,\n",
        "                                            color_mode='grayscale',\n",
        "                                            class_mode='categorical') \n"
      ],
      "execution_count": 7,
      "outputs": [
        {
          "output_type": "stream",
          "text": [
            "Found 12845 images belonging to 27 classes.\n",
            "Found 4268 images belonging to 27 classes.\n"
          ],
          "name": "stdout"
        }
      ]
    },
    {
      "cell_type": "code",
      "metadata": {
        "colab": {
          "base_uri": "https://localhost:8080/"
        },
        "id": "WIRW0HUjVV1E",
        "outputId": "65c6dbf8-8968-4f66-b9a6-2faf9dce5ed1"
      },
      "source": [
        "hist=classifier.fit(\n",
        "        training_set, # No of images in training set\n",
        "        epochs=10,\n",
        "        validation_data=test_set)"
      ],
      "execution_count": 8,
      "outputs": [
        {
          "output_type": "stream",
          "text": [
            "Epoch 1/10\n",
            "1285/1285 [==============================] - 3895s 3s/step - loss: 2.8120 - accuracy: 0.1648 - val_loss: 0.7234 - val_accuracy: 0.7870\n",
            "Epoch 2/10\n",
            "1285/1285 [==============================] - 266s 207ms/step - loss: 1.3975 - accuracy: 0.5245 - val_loss: 0.4358 - val_accuracy: 0.8732\n",
            "Epoch 3/10\n",
            "1285/1285 [==============================] - 265s 206ms/step - loss: 1.0805 - accuracy: 0.6289 - val_loss: 0.2513 - val_accuracy: 0.9335\n",
            "Epoch 4/10\n",
            "1285/1285 [==============================] - 266s 207ms/step - loss: 0.8794 - accuracy: 0.7015 - val_loss: 0.1971 - val_accuracy: 0.9374\n",
            "Epoch 5/10\n",
            "1285/1285 [==============================] - 265s 206ms/step - loss: 0.7906 - accuracy: 0.7315 - val_loss: 0.1682 - val_accuracy: 0.9604\n",
            "Epoch 6/10\n",
            "1285/1285 [==============================] - 264s 205ms/step - loss: 0.7461 - accuracy: 0.7423 - val_loss: 0.1546 - val_accuracy: 0.9461\n",
            "Epoch 7/10\n",
            "1285/1285 [==============================] - 262s 204ms/step - loss: 0.6528 - accuracy: 0.7868 - val_loss: 0.1302 - val_accuracy: 0.9702\n",
            "Epoch 8/10\n",
            "1285/1285 [==============================] - 265s 206ms/step - loss: 0.6087 - accuracy: 0.7972 - val_loss: 0.1309 - val_accuracy: 0.9665\n",
            "Epoch 9/10\n",
            "1285/1285 [==============================] - 266s 207ms/step - loss: 0.5626 - accuracy: 0.8139 - val_loss: 0.0774 - val_accuracy: 0.9862\n",
            "Epoch 10/10\n",
            "1285/1285 [==============================] - 264s 206ms/step - loss: 0.4993 - accuracy: 0.8349 - val_loss: 0.0556 - val_accuracy: 0.9855\n"
          ],
          "name": "stdout"
        }
      ]
    },
    {
      "cell_type": "code",
      "metadata": {
        "id": "q-hjJGPfLGY3",
        "colab": {
          "base_uri": "https://localhost:8080/",
          "height": 295
        },
        "outputId": "1e585631-2dff-4c27-cbfb-404c0c9f9cba"
      },
      "source": [
        "import matplotlib.pyplot as plt\n",
        "plt.plot(hist.history[\"accuracy\"])\n",
        "plt.plot(hist.history['val_accuracy'])\n",
        "\n",
        "plt.title(\"model accuracy\")\n",
        "plt.ylabel(\"Accuracy\")\n",
        "plt.xlabel(\"Epoch\")\n",
        "plt.legend([\"Accuracy\",\"Validation Accuracy\"])\n",
        "plt.show()"
      ],
      "execution_count": 9,
      "outputs": [
        {
          "output_type": "display_data",
          "data": {
            "image/png": "[encoded data removed]",
            "text/plain": [
              "<Figure size 432x288 with 1 Axes>"
            ]
          },
          "metadata": {
            "tags": [],
            "needs_background": "light"
          }
        }
      ]
    },
    {
      "cell_type": "code",
      "metadata": {
        "id": "m2-SCAoNNIuC",
        "colab": {
          "base_uri": "https://localhost:8080/",
          "height": 295
        },
        "outputId": "2b19853a-eb2d-45ce-b226-5a488a828da2"
      },
      "source": [
        "plt.plot(hist.history['loss'])\n",
        "plt.plot(hist.history['val_loss'])\n",
        "plt.title(\"model loss\")\n",
        "plt.ylabel(\"Loss\")\n",
        "plt.xlabel(\"Epoch\")\n",
        "plt.legend([\"loss\",\"Validation Loss\"])\n",
        "plt.show()"
      ],
      "execution_count": 10,
      "outputs": [
        {
          "output_type": "display_data",
          "data": {
            "image/png": "[encoded data removed]",
            "text/plain": [
              "<Figure size 432x288 with 1 Axes>"
            ]
          },
          "metadata": {
            "tags": [],
            "needs_background": "light"
          }
        }
      ]
    },
    {
      "cell_type": "code",
      "metadata": {
        "id": "V-3TI7EHKO0p",
        "colab": {
          "base_uri": "https://localhost:8080/"
        },
        "outputId": "449402c2-ca8b-4b89-b589-cf27c45ae833"
      },
      "source": [
        "# Saving the model\n",
        "model_json = classifier.to_json()\n",
        "with open(\"/content/drive/MyDrive/Major project- IV-II/models/model-bwexp0.json\", \"w\") as json_file:\n",
        "    json_file.write(model_json)\n",
        "print('Model Saved')\n",
        "classifier.save_weights('/content/drive/MyDrive/Major project- IV-II/models/model-bwexp0.h5')\n",
        "print('Weights saved')"
      ],
      "execution_count": 11,
      "outputs": [
        {
          "output_type": "stream",
          "text": [
            "Model Saved\n",
            "Weights saved\n"
          ],
          "name": "stdout"
        }
      ]
    }
  ]
}
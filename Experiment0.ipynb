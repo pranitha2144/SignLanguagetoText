{
  "nbformat": 4,
  "nbformat_minor": 0,
  "metadata": {
    "colab": {
      "name": "Experiment0.ipynb",
      "provenance": [],
      "mount_file_id": "1qS88j4lXY3rfKnVP1ib2_9ZtuATWS0tj",
      "authorship_tag": "ABX9TyNvY7UKMCVgTLRfIB1XGmOT",
      "include_colab_link": true
    },
    "kernelspec": {
      "name": "python3",
      "display_name": "Python 3"
    },
    "language_info": {
      "name": "python"
    }
  },
  "cells": [
    {
      "cell_type": "markdown",
      "metadata": {
        "id": "view-in-github",
        "colab_type": "text"
      },
      "source": [
        "<a href=\"https://colab.research.google.com/github/pranitha2144/SignLanguagetoText/blob/main/Experiment0.ipynb\" target=\"_parent\"><img src=\"https://colab.research.google.com/assets/colab-badge.svg\" alt=\"Open In Colab\"/></a>"
      ]
    },
    {
      "cell_type": "code",
      "metadata": {
        "id": "9G4yu_zVbkCi"
      },
      "source": [
        "from keras.models import Sequential\n",
        "from keras.layers import Convolution2D\n",
        "from keras.layers import MaxPooling2D\n",
        "from keras.layers import Flatten\n",
        "from keras.layers import Dense , Dropout\n",
        "sz=128"
      ],
      "execution_count": 10,
      "outputs": []
    },
    {
      "cell_type": "code",
      "metadata": {
        "id": "9vB92KN4dxLz"
      },
      "source": [
        "# Initializing the CNN\n",
        "classifier = Sequential()"
      ],
      "execution_count": 11,
      "outputs": []
    },
    {
      "cell_type": "code",
      "metadata": {
        "id": "91vFh28pd6kW"
      },
      "source": [
        "# First convolution layer and pooling\n",
        "classifier.add(Convolution2D(32, (3, 3), input_shape=(sz, sz, 1), activation='relu'))\n",
        "classifier.add(MaxPooling2D(pool_size=(2, 2)))\n",
        "# Second convolution layer and pooling\n",
        "classifier.add(Convolution2D(32, (3, 3), activation='relu'))\n",
        "# input_shape is going to be the pooled feature maps from the previous convolution layer\n",
        "classifier.add(MaxPooling2D(pool_size=(2, 2)))"
      ],
      "execution_count": 12,
      "outputs": []
    },
    {
      "cell_type": "code",
      "metadata": {
        "id": "JR2a7j4XeIN-"
      },
      "source": [
        "# Flattening the layers\n",
        "classifier.add(Flatten())\n",
        "\n",
        "# Adding a fully connected layer\n",
        "classifier.add(Dense(units=128, activation='relu'))\n",
        "classifier.add(Dropout(0.40))\n",
        "classifier.add(Dense(units=96, activation='relu'))\n",
        "classifier.add(Dropout(0.40))\n",
        "classifier.add(Dense(units=64, activation='relu'))\n",
        "classifier.add(Dense(units=27, activation='softmax')) # softmax for more than 2\n",
        "\n",
        "# Compiling the CNN\n",
        "classifier.compile(optimizer='adam', loss='categorical_crossentropy', metrics=['accuracy'])"
      ],
      "execution_count": 13,
      "outputs": []
    },
    {
      "cell_type": "code",
      "metadata": {
        "colab": {
          "base_uri": "https://localhost:8080/"
        },
        "id": "dCFxyGvKeOq1",
        "outputId": "181411ea-e1d6-4e8a-af4f-3795ac017492"
      },
      "source": [
        "# Step 2 - Preparing the train/test data and training the model\n",
        "classifier.summary()\n",
        "# Code copied from - https://keras.io/preprocessing/image/\n",
        "from keras.preprocessing.image import ImageDataGenerator\n",
        "\n",
        "train_datagen = ImageDataGenerator(\n",
        "        rescale=1./255,\n",
        "        shear_range=0.2,\n",
        "        zoom_range=0.2,\n",
        "        horizontal_flip=True)\n",
        "\n",
        "test_datagen = ImageDataGenerator(rescale=1./255)"
      ],
      "execution_count": 14,
      "outputs": [
        {
          "output_type": "stream",
          "text": [
            "Model: \"sequential_1\"\n",
            "_________________________________________________________________\n",
            "Layer (type)                 Output Shape              Param #   \n",
            "=================================================================\n",
            "conv2d_2 (Conv2D)            (None, 126, 126, 32)      320       \n",
            "_________________________________________________________________\n",
            "max_pooling2d_2 (MaxPooling2 (None, 63, 63, 32)        0         \n",
            "_________________________________________________________________\n",
            "conv2d_3 (Conv2D)            (None, 61, 61, 32)        9248      \n",
            "_________________________________________________________________\n",
            "max_pooling2d_3 (MaxPooling2 (None, 30, 30, 32)        0         \n",
            "_________________________________________________________________\n",
            "flatten_1 (Flatten)          (None, 28800)             0         \n",
            "_________________________________________________________________\n",
            "dense_4 (Dense)              (None, 128)               3686528   \n",
            "_________________________________________________________________\n",
            "dropout_2 (Dropout)          (None, 128)               0         \n",
            "_________________________________________________________________\n",
            "dense_5 (Dense)              (None, 96)                12384     \n",
            "_________________________________________________________________\n",
            "dropout_3 (Dropout)          (None, 96)                0         \n",
            "_________________________________________________________________\n",
            "dense_6 (Dense)              (None, 64)                6208      \n",
            "_________________________________________________________________\n",
            "dense_7 (Dense)              (None, 27)                1755      \n",
            "=================================================================\n",
            "Total params: 3,716,443\n",
            "Trainable params: 3,716,443\n",
            "Non-trainable params: 0\n",
            "_________________________________________________________________\n"
          ],
          "name": "stdout"
        }
      ]
    },
    {
      "cell_type": "code",
      "metadata": {
        "id": "mo3t6QIeeVmt",
        "colab": {
          "base_uri": "https://localhost:8080/"
        },
        "outputId": "04c49e4e-f9bf-4afb-bd01-895100efb871"
      },
      "source": [
        "training_set = train_datagen.flow_from_directory('/content/drive/MyDrive/Major project- IV-II/train',\n",
        "                                                 target_size=(sz, sz),\n",
        "                                                 batch_size=10,\n",
        "                                                 color_mode='grayscale',\n",
        "                                                 class_mode='categorical')\n",
        "\n",
        "test_set = test_datagen.flow_from_directory('/content/drive/MyDrive/Major project- IV-II/test',\n",
        "                                            target_size=(sz , sz),\n",
        "                                            batch_size=10,\n",
        "                                            color_mode='grayscale',\n",
        "                                            class_mode='categorical') \n",
        "classifier.fit_generator(\n",
        "        training_set,\n",
        "        steps_per_epoch=1200, # No of images in training set\n",
        "        epochs=5,\n",
        "        validation_data=test_set,\n",
        "        validation_steps=40)# No"
      ],
      "execution_count": 18,
      "outputs": [
        {
          "output_type": "stream",
          "text": [
            "Found 12845 images belonging to 27 classes.\n",
            "Found 4268 images belonging to 27 classes.\n",
            "Epoch 1/5\n"
          ],
          "name": "stdout"
        },
        {
          "output_type": "stream",
          "text": [
            "/usr/local/lib/python3.7/dist-packages/tensorflow/python/keras/engine/training.py:1844: UserWarning: `Model.fit_generator` is deprecated and will be removed in a future version. Please use `Model.fit`, which supports generators.\n",
            "  warnings.warn('`Model.fit_generator` is deprecated and '\n"
          ],
          "name": "stderr"
        },
        {
          "output_type": "stream",
          "text": [
            "1200/1200 [==============================] - 222s 185ms/step - loss: 0.6406 - accuracy: 0.7817 - val_loss: 0.0601 - val_accuracy: 0.9850\n",
            "Epoch 2/5\n",
            "1200/1200 [==============================] - 221s 184ms/step - loss: 0.4820 - accuracy: 0.8383 - val_loss: 0.0442 - val_accuracy: 0.9875\n",
            "Epoch 3/5\n",
            "1200/1200 [==============================] - 220s 183ms/step - loss: 0.3962 - accuracy: 0.8715 - val_loss: 0.0251 - val_accuracy: 0.9950\n",
            "Epoch 4/5\n",
            "1200/1200 [==============================] - 221s 184ms/step - loss: 0.3459 - accuracy: 0.8878 - val_loss: 0.0208 - val_accuracy: 0.9925\n",
            "Epoch 5/5\n",
            "1200/1200 [==============================] - 221s 184ms/step - loss: 0.3171 - accuracy: 0.8957 - val_loss: 0.0030 - val_accuracy: 1.0000\n"
          ],
          "name": "stdout"
        },
        {
          "output_type": "execute_result",
          "data": {
            "text/plain": [
              "<tensorflow.python.keras.callbacks.History at 0x7f36aba1f910>"
            ]
          },
          "metadata": {
            "tags": []
          },
          "execution_count": 18
        }
      ]
    },
    {
      "cell_type": "code",
      "metadata": {
        "colab": {
          "base_uri": "https://localhost:8080/"
        },
        "id": "joFa3pFzkSB1",
        "outputId": "175aa78b-abbb-44b4-faa4-855b41c67da9"
      },
      "source": [
        "print(test_set.classes)"
      ],
      "execution_count": 29,
      "outputs": [
        {
          "output_type": "stream",
          "text": [
            "[ 0  0  0 ... 26 26 26]\n"
          ],
          "name": "stdout"
        }
      ]
    },
    {
      "cell_type": "code",
      "metadata": {
        "colab": {
          "base_uri": "https://localhost:8080/"
        },
        "id": "lWrzNyVCZqOc",
        "outputId": "3306b42a-ddbe-425b-d3f1-4bee36c01662"
      },
      "source": [
        "#Confution Matrix and Classification Report\n",
        "import numpy as np\n",
        "from sklearn.metrics import classification_report, confusion_matrix\n",
        "Y_pred = classifier.predict(test_set)\n",
        "y_pred = np.argmax(Y_pred, axis=1)\n",
        "print('Confusion Matrix')\n",
        "print(confusion_matrix(test_set.classes, y_pred))\n",
        "print('Classification Report')\n",
        "print(classification_report(test_set.classes, y_pred))"
      ],
      "execution_count": 28,
      "outputs": [
        {
          "output_type": "stream",
          "text": [
            "Confusion Matrix\n",
            "[[ 5  8  6  4  2  5  3  3  5  7  9  5  5  7 10  3  4  8  7  8  6 10  4  2\n",
            "   3 11  4]\n",
            " [ 4  5  7  3  4  9  1  3 10  6  5  4  5  6  2  6  9  5  6 10  5  2 13 10\n",
            "   8  3  5]\n",
            " [ 3  7  8  8  2  3  7  5  8  8  7 10  6  8  5  4  5  6  7  6  3  7  5  6\n",
            "   2  4  7]\n",
            " [ 7  8  2  5  5  3  7  6  2  8  6  4  4  4  8  7  4  5 11 11  6  6  4  6\n",
            "   4  4  9]\n",
            " [ 5  5  7  8  3  3  7  3  3  5  5 12  5  4  9  5  3  2  8  7  2  8  7  6\n",
            "   8  5 10]\n",
            " [ 7  5  9  3  7  7  6  4 10 10  5  2  2 12  9  5  9  7  3  1  6  2  4  2\n",
            "   5  6  8]\n",
            " [ 8  4  6  6  8  4  7  6 10  4  7  8  8  4  4  8  4  4  4  4  5  5 10  5\n",
            "  11  4  7]\n",
            " [10  5  9  4  6  2  3  4  8  3  5  4  6  7  6 12  7  6  3  3  5  5  6  7\n",
            "   5  7  5]\n",
            " [ 5  6  4  9 11 12  6  2  6  9  3  3  6  4  7  4  5  4  8  5 10  8  4  8\n",
            "   3  8  5]\n",
            " [ 3  7  5  5  5  8  3  3  5  1  7  5  4  6  6  8  6  9  3  7 11  6  3  9\n",
            "   5 10  7]\n",
            " [ 6  7  7  3  5  4  5  7 11  4  8  7  8  6 10  7  2  4  4  5  4  8  5  6\n",
            "   8  8  7]\n",
            " [ 2  5  9 10  5  4  8  7 11  4  6  5  5  3  5  7 11  8 11  6  6  4  2  5\n",
            "   4  5  6]\n",
            " [ 8  4  9  7  3  4  6  6  5  4  5  7  8  4  7 13  6  5  7  4  7  4  3  4\n",
            "   4  4  7]\n",
            " [ 8  6  1  7  7  7  7  5  0  9  8  4 10  6  9  3  7 11  5  6 10  5  6  6\n",
            "   5  6  1]\n",
            " [ 4  6  2  5 10  6 11 10  7  2  5  7 10  6  7  7  6  2  4  4  4  6  5 10\n",
            "   6  8  3]\n",
            " [10 10  7  5  6  7  4  8  3  5  4  8  4  6  4  4  4  7  2  9  5  8  5  6\n",
            "  10 10  6]\n",
            " [ 7  4  6  5  6  5  6  6  6  2  7 10  8  7  5  3  3  1  4  4  9 11  8  5\n",
            "   6  1 10]\n",
            " [ 3  5  4  2  6  7  6  9  3  9  3  3  8  6  7  8  6  5  5  9  7  6  7  7\n",
            "   2  8  3]\n",
            " [ 5  3  5  4  5  6  9  6  8  5 10  9  6  5  7  9  8  6  7  3  3  6  2  4\n",
            "   8  6  2]\n",
            " [ 4 10  6  6  4  2  5  6  6  9  8  7  3  6 10  3  7  5  6  4  4  4  6  8\n",
            "   5  5  5]\n",
            " [ 6  7  6  6  8  2 10  4  6  4  8  7  6 11  4  3  5  3  9  1  5  3  6  8\n",
            "   5  8  4]\n",
            " [ 4  6  7  6  5  7  6  8  6  4  3  8  3  5  3  3  7  7  9  8  6  6 11  2\n",
            "   3  5  5]\n",
            " [ 7  3  5  5  7  3 11  7  5  8  8  7  3  5  3  5 10  4  6  6  7  3  6 10\n",
            "   9  5  5]\n",
            " [ 5  2  6 10  1  7  5  6  7  9  3  5  6  5  6  4  3  6  9  8  5  6 12  5\n",
            "   6  3  6]\n",
            " [ 6  5  5  6  6  8  7  5  4  4  7  6  6  8  3 10  5  7  1  7  5  1  6  8\n",
            "   4  5  8]\n",
            " [ 8  5  4  8 11  9  3  6  6 10  9  5  4  7  6  8  4  9  4  4  2  6  3  2\n",
            "   6  5  4]\n",
            " [ 4  8  5  6  7 12  5  7  5  4  5  3  6  7  3  8  6  7  6  4  5  6  6  2\n",
            "   8  4  7]]\n",
            "Classification Report\n",
            "              precision    recall  f1-score   support\n",
            "\n",
            "           0       0.03      0.03      0.03       154\n",
            "           1       0.03      0.03      0.03       156\n",
            "           2       0.05      0.05      0.05       157\n",
            "           3       0.03      0.03      0.03       156\n",
            "           4       0.02      0.02      0.02       155\n",
            "           5       0.04      0.04      0.04       156\n",
            "           6       0.04      0.04      0.04       165\n",
            "           7       0.03      0.03      0.03       153\n",
            "           8       0.04      0.04      0.04       165\n",
            "           9       0.01      0.01      0.01       157\n",
            "          10       0.05      0.05      0.05       166\n",
            "          11       0.03      0.03      0.03       164\n",
            "          12       0.05      0.05      0.05       155\n",
            "          13       0.04      0.04      0.04       165\n",
            "          14       0.04      0.04      0.04       163\n",
            "          15       0.02      0.02      0.02       167\n",
            "          16       0.02      0.02      0.02       155\n",
            "          17       0.03      0.03      0.03       154\n",
            "          18       0.04      0.04      0.04       157\n",
            "          19       0.03      0.03      0.03       154\n",
            "          20       0.03      0.03      0.03       155\n",
            "          21       0.04      0.04      0.04       153\n",
            "          22       0.04      0.04      0.04       163\n",
            "          23       0.03      0.03      0.03       156\n",
            "          24       0.03      0.03      0.03       153\n",
            "          25       0.03      0.03      0.03       158\n",
            "          26       0.04      0.04      0.04       156\n",
            "\n",
            "    accuracy                           0.03      4268\n",
            "   macro avg       0.03      0.03      0.03      4268\n",
            "weighted avg       0.03      0.03      0.03      4268\n",
            "\n"
          ],
          "name": "stdout"
        }
      ]
    },
    {
      "cell_type": "code",
      "metadata": {
        "colab": {
          "base_uri": "https://localhost:8080/"
        },
        "id": "kceg4pQOkcCe",
        "outputId": "43833751-79cb-46b9-a5ed-188c4fdcaa32"
      },
      "source": [
        "y_pred"
      ],
      "execution_count": 30,
      "outputs": [
        {
          "output_type": "execute_result",
          "data": {
            "text/plain": [
              "array([21,  1,  6, ..., 25,  7, 17])"
            ]
          },
          "metadata": {
            "tags": []
          },
          "execution_count": 30
        }
      ]
    }
  ]
}